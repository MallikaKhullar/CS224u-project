{
 "cells": [
  {
   "cell_type": "markdown",
   "metadata": {},
   "source": [
    "## Code for Constructing the Dataset for our CS 224U Project\n",
    "\n",
    "### PRAW\n",
    "1. Generated a prelim list of users who've posts on r/Anxiety using ParseHub\n",
    "2. Using the Reddit API through praw (initially was trying to use BeautifulSoup, but Reddit API is easier) to fetch posts by users\n",
    "3. Future work: Optimise python processing \n",
    "\n",
    "\n",
    "### Three categories\n",
    "1. Mental Illness Related Subreddits - ('men')\n",
    "2. Anxiety Related Subreddits (subset of first group) - ('anx')\n",
    "3. Unrelated Subreddits (Mutually exclusive from first group) - ('unr')"
   ]
  },
  {
   "cell_type": "code",
   "execution_count": null,
   "metadata": {},
   "outputs": [],
   "source": []
  },
  {
   "cell_type": "code",
   "execution_count": 206,
   "metadata": {},
   "outputs": [],
   "source": [
    "import requests\n",
    "import csv\n",
    "import time\n",
    "from bs4 import BeautifulSoup\n",
    "from collections import Counter\n",
    "import praw\n",
    "import pandas as pd\n",
    "import datetime as dt #only if you want to analyze the date created feature\n",
    "import json \n",
    "from types import SimpleNamespace\n",
    "import sys"
   ]
  },
  {
   "cell_type": "code",
   "execution_count": 185,
   "metadata": {},
   "outputs": [],
   "source": [
    "class SetEncoder(json.JSONEncoder):\n",
    "    '''Using SetEncoder to JSONify our individual result sets'''\n",
    "    def default(self, obj):\n",
    "        if isinstance(obj, set): return list(obj)\n",
    "        return json.JSONEncoder.default(self, obj)"
   ]
  },
  {
   "cell_type": "code",
   "execution_count": 207,
   "metadata": {},
   "outputs": [],
   "source": [
    "reddit = praw.Reddit(client_id='A1ufXY3vdi2vpA', \n",
    "                     client_secret='nO1tFwJCFGiegR4NQzcMEbPze0g', \n",
    "                     user_agent='Script', \n",
    "                     username='sophiemiya', \n",
    "                     password='stevie13weedR')"
   ]
  },
  {
   "cell_type": "code",
   "execution_count": 208,
   "metadata": {},
   "outputs": [],
   "source": [
    "f = open('dataset/dont-change.json',)  # prelim list of users gathered through parsehub\n",
    "data = json.load(f)['selection2']\n",
    "unique = [ each['name'].replace(\"u/\", \"\") for each in data] # get a unique set of users \n",
    "    \n",
    "f.close() "
   ]
  },
  {
   "cell_type": "code",
   "execution_count": 188,
   "metadata": {},
   "outputs": [],
   "source": [
    "def add_to_unique_users(sub):\n",
    "    panic_party_posts = reddit.subreddit(sub).top(limit=1000)\n",
    "    panic_users = [post.author.name for post in panic_party_posts if post.author is not None]\n",
    "    unique.extend(list(set(panic_users)))\n",
    "\n",
    "for sub in ['Anxietyhelp', 'PanicAttack','PanicParty', 'panicdisorder', 'AnxietyDepression', 'socialanxiety', 'HealthAnxiety']:\n",
    "    add_to_unique_users(sub)"
   ]
  },
  {
   "cell_type": "code",
   "execution_count": 192,
   "metadata": {},
   "outputs": [
    {
     "name": "stdout",
     "output_type": "stream",
     "text": [
      "4922\n"
     ]
    }
   ],
   "source": [
    "unique = list(set(unique))\n",
    "print(len(unique))\n",
    "with open('dataset/unique-users-dont-change.json', 'w') as fp: json.dump(unique, fp) # write the unique users to a file"
   ]
  },
  {
   "cell_type": "markdown",
   "metadata": {},
   "source": [
    "### Load Users"
   ]
  },
  {
   "cell_type": "code",
   "execution_count": 211,
   "metadata": {},
   "outputs": [
    {
     "name": "stdout",
     "output_type": "stream",
     "text": [
      "4922\n"
     ]
    }
   ],
   "source": [
    "# LOAD DATA\n",
    "\n",
    "f = open('dataset/unique-users-dont-change.json',)  # prelim list of users gathered through parsehub\n",
    "unique = json.load(f)\n",
    "print(len(data))\n",
    "# print(data)\n",
    "f.close() "
   ]
  },
  {
   "cell_type": "code",
   "execution_count": 197,
   "metadata": {},
   "outputs": [],
   "source": [
    "# CATEGORY SPECIFIC VARs\n",
    "\n",
    "counter_men = Counter()\n",
    "counter_unr = Counter()\n",
    "counter_anx = Counter()\n",
    "posts_men = []\n",
    "posts_anx = []\n",
    "posts_unr = []\n",
    "\n",
    "categories = SimpleNamespace(**{\n",
    "    \n",
    "    'unr': SimpleNamespace(**{\n",
    "        'type': 'unr',\n",
    "        'counter': counter_unr,\n",
    "        'result_list': posts_unr,\n",
    "        'file_name': 'posts-unr.json'\n",
    "    }),\n",
    "    \n",
    "    'men': SimpleNamespace(**{\n",
    "        'type': 'men',\n",
    "        'counter': counter_men,\n",
    "        'result_list': posts_men,\n",
    "        'file_name': 'posts-men.json'\n",
    "    }),\n",
    "    \n",
    "    'anx': SimpleNamespace(**{\n",
    "        'type': 'anx',\n",
    "        'counter': counter_anx,\n",
    "        'result_list': posts_anx,\n",
    "        'file_name': 'posts-anx.json'\n",
    "    })\n",
    "})"
   ]
  },
  {
   "cell_type": "code",
   "execution_count": 198,
   "metadata": {},
   "outputs": [],
   "source": [
    "def get_dict_from_submission(submission,  user):\n",
    "    try:\n",
    "        sub_dict = {'sub': submission.subreddit.display_name, \\\n",
    "                'title': submission.title, \\\n",
    "                'body' : submission.selftext, \\\n",
    "                'num_u' : submission.score, \\\n",
    "                'url' : submission.url, \\\n",
    "                'num_c' : submission.num_comments, \\\n",
    "                'time': submission.created, \\\n",
    "                'user': user\n",
    "        }\n",
    "    except:\n",
    "        print(\"Error has occured here\")\n",
    "        \n",
    "    return sub_dict\n",
    "\n",
    "def init_vars():\n",
    "    return [],0,0\n",
    "\n",
    "def print_progress(user_count):\n",
    "    if user_count%150==0:  \n",
    "        print(\"Handling user: \", user_count)  \n",
    "\n",
    "def process_user(user):\n",
    "    global user_count\n",
    "\n",
    "    print_progress(user_count)\n",
    "    user_count += 1\n",
    "    \n",
    "def dump_data(file_name, data):\n",
    "    if isinstance(data, set): data = json.dumps(data, cls=SetEncoder) # if set, first encode\n",
    "        \n",
    "    with open(file_name, 'w') as fp:\n",
    "        json.dump(data, fp)\n",
    "\n",
    "def get_post_type(sub):\n",
    "    if sub in SUBS_ANX: return categories.anx.type\n",
    "    elif sub in SUBS_MEN: return categories.men.type\n",
    "    else: return categories.unr.type\n",
    "\n",
    "def process_for_category(post, sub):\n",
    "    if sub in SUBS_ANX:\n",
    "        categories.anx.counter[sub] += 1\n",
    "        categories.anx.result_list.append(post)\n",
    "            \n",
    "    elif sub in SUBS_MEN:\n",
    "        categories.men.counter[sub] += 1\n",
    "        categories.men.result_list.append(post)\n",
    "\n",
    "    else: \n",
    "        categories.unr.counter[sub] += 1\n",
    "        categories.unr.result_list.append(post)\n"
   ]
  },
  {
   "cell_type": "code",
   "execution_count": 199,
   "metadata": {},
   "outputs": [],
   "source": [
    "# STATICS\n",
    "\n",
    "TOTAL_USERS = 4500\n",
    "LIM = 50\n",
    "\n",
    "SUBS_MEN = ['selfharm', 'bipolar', 'CPTSD', 'BPD', 'MentalHealthSupport','antidepressants','medical_advice','raisedbynarcissists','GeneticCounseling','ADHDAccountability','Dissociation','Anxiety', 'AnxietyDepression', 'socialanxiety', 'panicdisorder', 'Anxietyhelp', 'PanicAttack', 'PanicParty', 'HealthAnxiety', 'depression', 'SuicideWatch', 'OCD' , 'TrueOffMyChest', 'mentalhealth', 'offmychest', 'emotionalsupport', 'therapy', 'ADHD','AskDocs']\n",
    "SUBS_ANX = ['Anxietyhelp', 'PanicAttack', 'Anxiety', 'AnxietyDepression', 'socialanxiety', 'HealthAnxiety', 'panicdisorder', 'PanicParty']\n",
    "\n",
    "\n",
    "# RESULTS \n",
    "\n",
    "results = {} # stores actual result here\n",
    "results_user_names = [] # stores final user names here\n",
    "\n",
    "\n",
    "# COUNTERS\n",
    "\n",
    "result_user_count = 0 # counts the total valid users we get by the end\n",
    "result_post_count = 0 # counts the total valid posts we get by the end\n"
   ]
  },
  {
   "cell_type": "code",
   "execution_count": 200,
   "metadata": {},
   "outputs": [
    {
     "name": "stdout",
     "output_type": "stream",
     "text": [
      "Handling user:  0\n",
      "Exception:  <class 'prawcore.exceptions.Forbidden'>\n",
      "Exception:  <class 'prawcore.exceptions.NotFound'>\n",
      "Exception:  <class 'prawcore.exceptions.NotFound'>\n",
      "Handling user:  150\n",
      "Exception:  <class 'prawcore.exceptions.Forbidden'>\n",
      "Handling user:  300\n",
      "Exception:  <class 'prawcore.exceptions.NotFound'>\n",
      "Handling user:  450\n",
      "Exception:  <class 'prawcore.exceptions.Forbidden'>\n",
      "Exception:  <class 'prawcore.exceptions.Forbidden'>\n",
      "Handling user:  600\n",
      "Exception:  <class 'prawcore.exceptions.NotFound'>\n",
      "Exception:  <class 'prawcore.exceptions.Forbidden'>\n",
      "Handling user:  750\n",
      "Handling user:  900\n",
      "Handling user:  1050\n",
      "Exception:  <class 'prawcore.exceptions.Forbidden'>\n",
      "Exception:  <class 'prawcore.exceptions.Forbidden'>\n",
      "Exception:  <class 'prawcore.exceptions.Forbidden'>\n",
      "Handling user:  1200\n",
      "Exception:  <class 'prawcore.exceptions.Forbidden'>\n",
      "Exception:  <class 'prawcore.exceptions.Forbidden'>\n",
      "Handling user:  1350\n",
      "Exception:  <class 'prawcore.exceptions.NotFound'>\n",
      "Handling user:  1500\n",
      "Handling user:  1650\n",
      "Exception:  <class 'prawcore.exceptions.Forbidden'>\n",
      "Exception:  <class 'prawcore.exceptions.Forbidden'>\n",
      "Exception:  <class 'prawcore.exceptions.Forbidden'>\n",
      "Exception:  <class 'prawcore.exceptions.NotFound'>\n",
      "Exception:  <class 'prawcore.exceptions.NotFound'>\n",
      "Handling user:  1800\n",
      "Exception:  <class 'prawcore.exceptions.Forbidden'>\n",
      "Handling user:  1950\n",
      "Exception:  <class 'prawcore.exceptions.Forbidden'>\n",
      "Handling user:  2100\n",
      "Exception:  <class 'prawcore.exceptions.NotFound'>\n",
      "Handling user:  2250\n",
      "Exception:  <class 'prawcore.exceptions.Forbidden'>\n",
      "Exception:  <class 'prawcore.exceptions.Forbidden'>\n",
      "Exception:  <class 'prawcore.exceptions.Forbidden'>\n",
      "Handling user:  2400\n",
      "Exception:  <class 'prawcore.exceptions.NotFound'>\n",
      "Handling user:  2550\n",
      "Exception:  <class 'prawcore.exceptions.Forbidden'>\n",
      "Exception:  <class 'prawcore.exceptions.Forbidden'>\n",
      "Exception:  <class 'prawcore.exceptions.Forbidden'>\n",
      "Handling user:  2700\n",
      "Exception:  <class 'prawcore.exceptions.Forbidden'>\n",
      "Exception:  <class 'prawcore.exceptions.Forbidden'>\n",
      "Handling user:  2850\n",
      "Exception:  <class 'prawcore.exceptions.Forbidden'>\n",
      "Exception:  <class 'prawcore.exceptions.Forbidden'>\n",
      "Handling user:  3000\n",
      "Exception:  <class 'prawcore.exceptions.Forbidden'>\n",
      "Exception:  <class 'prawcore.exceptions.NotFound'>\n",
      "Handling user:  3150\n",
      "Exception:  <class 'prawcore.exceptions.Forbidden'>\n",
      "Exception:  <class 'prawcore.exceptions.Forbidden'>\n",
      "Handling user:  3300\n",
      "Exception:  <class 'prawcore.exceptions.Forbidden'>\n",
      "Exception:  <class 'prawcore.exceptions.Forbidden'>\n",
      "Handling user:  3450\n",
      "Handling user:  3600\n",
      "Handling user:  3750\n",
      "Exception:  <class 'prawcore.exceptions.Forbidden'>\n",
      "Exception:  <class 'prawcore.exceptions.Forbidden'>\n",
      "Handling user:  3900\n",
      "Exception:  <class 'prawcore.exceptions.Forbidden'>\n",
      "Exception:  <class 'prawcore.exceptions.Forbidden'>\n",
      "Exception:  <class 'prawcore.exceptions.Forbidden'>\n",
      "Handling user:  4050\n",
      "Exception:  <class 'prawcore.exceptions.Forbidden'>\n",
      "Exception:  <class 'prawcore.exceptions.Forbidden'>\n",
      "Exception:  <class 'prawcore.exceptions.NotFound'>\n",
      "Exception:  <class 'prawcore.exceptions.Forbidden'>\n",
      "Handling user:  4200\n",
      "Handling user:  4350\n",
      "Exception:  <class 'prawcore.exceptions.Forbidden'>\n",
      "Exception:  <class 'prawcore.exceptions.Forbidden'>\n",
      "Handling user:  4500\n",
      "Handling user:  4650\n",
      "Handling user:  4800\n"
     ]
    }
   ],
   "source": [
    "user_count = 0 \n",
    "\n",
    "# get the submissions\n",
    "# users_to_process = list(set(unique))[0:TOTAL_USERS]\n",
    "users_to_process = list(set(unique))\n",
    "\n",
    "users_submissions = [(reddit.redditor(user).submissions.new(limit=LIM), user) for user in users_to_process]\n",
    "user_submissions_2 = [] # need this because of Praw iterator related bug\n",
    "\n",
    "# main processing happens now:\n",
    "\n",
    "for submissions, user in users_submissions:\n",
    "    process_user(user) # print and increment count\n",
    "    \n",
    "    user_result, count_related, count_unrelated  = init_vars() # initializes empty variables\n",
    "    \n",
    "    try: # because 404 HTTP errors in reading submissions sometimes\n",
    "        submissions = list(submissions)\n",
    "        submissions_2 = [] # need this because of Praw iterator related bug\n",
    "        \n",
    "        for submission in submissions: # quick pass to see if this user's posts are relevant\n",
    "            submissions_2.append(submission)\n",
    "            # if title doesn't exist or body doesn't exist\n",
    "            # or we already have 10 relevant posts from user\n",
    "            # or post is removed\n",
    "            # then skip\n",
    "\n",
    "            if not (submission.title and submission.selftext) \\\n",
    "            or (count_related > 5 and count_unrelated > 5) \\\n",
    "            or submission.selftext == \"[removed]\": \n",
    "                continue \n",
    "\n",
    "            if get_post_type(submission.subreddit.display_name) in ['anx', 'men']: count_related += 1\n",
    "            else: count_unrelated += 1\n",
    "\n",
    "        is_relevant = False\n",
    "         # do another longer pass if relevant user\n",
    "        if(count_related > 2 and count_unrelated > 2): \n",
    "            is_relevant = True\n",
    "            try:\n",
    "                for submission in submissions_2:\n",
    "                    # sub-reddit related work \n",
    "                    post = get_dict_from_submission(submission, user)\n",
    "                    process_for_category(post, submission.subreddit.display_name)\n",
    "#                     result_post_count += 1 # increment the result count\n",
    "                    sub_dict = get_dict_from_submission(submission, user)\n",
    "                    # add the post to user's results\n",
    "                    user_result.append(sub_dict)\n",
    "            except Exception:\n",
    "                print(\"Exception has occurred: \", sys.exc_info())\n",
    "            \n",
    "            if(is_relevant):\n",
    "                \n",
    "#             print(\"Incrementing results\",  len(results))\n",
    "                results_user_names.append(user) # add user to the list of final users used\n",
    "                results[user] = (user_result) # add result to final result\n",
    "                result_user_count += 1 # increment the user count\n",
    "                result_post_count += len(user_result)\n",
    "    except Exception:\n",
    "        print(\"Exception: \", sys.exc_info()[0])\n",
    "        continue\n",
    "    "
   ]
  },
  {
   "cell_type": "code",
   "execution_count": null,
   "metadata": {},
   "outputs": [],
   "source": []
  },
  {
   "cell_type": "code",
   "execution_count": 201,
   "metadata": {},
   "outputs": [
    {
     "name": "stdout",
     "output_type": "stream",
     "text": [
      "Result user count:  1440\n",
      "\n",
      "Result post count:  51996\n",
      "\n",
      "Counter of mental posts:  [('depression', 1237), ('AskDocs', 833), ('OCD', 349), ('mentalhealth', 344), ('SuicideWatch', 332), ('offmychest', 324), ('ADHD', 235), ('raisedbynarcissists', 233), ('CPTSD', 212), ('bipolar', 212)]\n",
      "Counter of anx posts:  [('Anxiety', 2813), ('HealthAnxiety', 2444), ('AnxietyDepression', 1063), ('socialanxiety', 679), ('PanicAttack', 624), ('Anxietyhelp', 545), ('panicdisorder', 269), ('PanicParty', 48)]\n",
      "Counter of unrelated posts:  [('AskReddit', 1196), ('NoStupidQuestions', 278), ('Advice', 257), ('NoFap', 225), ('relationship_advice', 222), ('aww', 220), ('unpopularopinion', 190), ('Showerthoughts', 184), ('cats', 161), ('trees', 152)]\n",
      "\n",
      "Result of mental posts 5025\n",
      "Result of anx posts 8485\n",
      "Result of unrelated posts 38486\n"
     ]
    }
   ],
   "source": [
    "print(\"Result user count: \", result_user_count)\n",
    "\n",
    "print(\"\\nResult post count: \", result_post_count)\n",
    "\n",
    "print(\"\\nCounter of mental posts: \", categories.men.counter.most_common(10))\n",
    "print(\"Counter of anx posts: \", categories.anx.counter.most_common(10))\n",
    "print(\"Counter of unrelated posts: \", categories.unr.counter.most_common(10))\n",
    "\n",
    "print(\"\\nResult of mental posts\", len(categories.men.result_list))\n",
    "print(\"Result of anx posts\", len(categories.anx.result_list))\n",
    "print(\"Result of unrelated posts\", len(categories.unr.result_list))"
   ]
  },
  {
   "cell_type": "code",
   "execution_count": 205,
   "metadata": {},
   "outputs": [],
   "source": [
    "dump_data('dataset/reddit-data.json', results)\n",
    "\n",
    "dump_data('dataset/reddit-posts-mental.json', categories.men.result_list)\n",
    "dump_data('dataset/reddit-posts-anxiety.json', categories.anx.result_list)\n",
    "dump_data('dataset/reddit-posts-unrelated.json', categories.unr.result_list)\n",
    "\n",
    "dump_data('dataset/reddit-counter-unrelated.txt', categories.unr.counter.most_common())\n",
    "dump_data('dataset/reddit-counter-mental.txt', categories.men.counter.most_common())\n",
    "dump_data('dataset/reddit-counter-anxiety.txt', categories.anx.counter.most_common())\n",
    "\n",
    "dump_data('dataset/stats.txt', \"Result of mental posts: {} \\\n",
    "        Result of anx posts: {} \\\n",
    "        Result of unrelated posts: {}\"\\\n",
    "         .format(len(categories.men.result_list),\\\n",
    "                 len(categories.anx.result_list),\\\n",
    "                 len(categories.unr.result_list))"
   ]
  },
  {
   "cell_type": "code",
   "execution_count": null,
   "metadata": {},
   "outputs": [],
   "source": []
  },
  {
   "cell_type": "code",
   "execution_count": null,
   "metadata": {},
   "outputs": [],
   "source": []
  },
  {
   "cell_type": "code",
   "execution_count": null,
   "metadata": {},
   "outputs": [],
   "source": []
  },
  {
   "cell_type": "markdown",
   "metadata": {},
   "source": [
    "### Getting non-anxiety control group posts"
   ]
  },
  {
   "cell_type": "code",
   "execution_count": 292,
   "metadata": {},
   "outputs": [
    {
     "name": "stdout",
     "output_type": "stream",
     "text": [
      "Handling post:  0\n",
      "Handling post:  1000\n",
      "Handling post:  2000\n",
      "Handling post:  3000\n",
      "Handling post:  4000\n",
      "Handling post:  5000\n",
      "Handling post:  6000\n",
      "Handling post:  7000\n",
      "Handling post:  8000\n",
      "Handling post:  9000\n",
      "Handling post:  10000\n",
      "Handling post:  11000\n",
      "Handling post:  12000\n",
      "Handling post:  13000\n",
      "Handling post:  14000\n",
      "Handling post:  15000\n",
      "Handling post:  16000\n",
      "Handling post:  17000\n",
      "Handling post:  18000\n",
      "Handling post:  19000\n",
      "Handling post:  20000\n",
      "Handling post:  21000\n",
      "Handling post:  22000\n",
      "Handling post:  23000\n",
      "Handling post:  24000\n",
      "Handling post:  25000\n",
      "Handling post:  26000\n",
      "Handling post:  27000\n",
      "Handling post:  28000\n",
      "Handling post:  29000\n",
      "Handling post:  30000\n",
      "Handling post:  31000\n",
      "Handling post:  32000\n",
      "Handling post:  33000\n",
      "Handling post:  34000\n",
      "Handling post:  35000\n",
      "Handling post:  36000\n",
      "Handling post:  37000\n",
      "Handling post:  38000\n",
      "Handling post:  39000\n",
      "Handling post:  40000\n",
      "Handling post:  41000\n",
      "Handling post:  42000\n",
      "Handling post:  43000\n",
      "Handling post:  44000\n",
      "Handling post:  45000\n",
      "Handling post:  46000\n",
      "Handling post:  47000\n",
      "Handling post:  48000\n",
      "Handling post:  49000\n"
     ]
    }
   ],
   "source": [
    "unr_post_count = 0\n",
    "\n",
    "def print_progress_posts(post_count):\n",
    "    if post_count%1000==0:  \n",
    "        print(\"Handling post: \", post_count)  \n",
    "\n",
    "def process_post():\n",
    "    global unr_post_count\n",
    "\n",
    "    print_progress_posts(unr_post_count)\n",
    "    unr_post_count += 1\n",
    "\n",
    "    \n",
    "def get_dict_from_submission(submission):\n",
    "    try:\n",
    "        sub_dict = {'sub': submission.subreddit.display_name, \\\n",
    "                'title': submission.title, \\\n",
    "                'body' : submission.selftext, \\\n",
    "                'num_u' : submission.score, \\\n",
    "                'url' : submission.url, \\\n",
    "                'num_c' : submission.num_comments, \\\n",
    "                'time': submission.created, \\\n",
    "                'user': submission.author.name\n",
    "        }\n",
    "    except:\n",
    "        pass\n",
    "        \n",
    "    return sub_dict\n",
    "\n",
    "control_group_counter = Counter()\n",
    "countrol_group_posts = []\n",
    "\n",
    "control_users = set()\n",
    "\n",
    "def fetch_non_anxious_users_posts(sub):\n",
    "\n",
    "    submissions = reddit.subreddit(sub).top(limit=1000)\n",
    "    \n",
    "    try: # because 404 HTTP errors in reading submissions sometimes\n",
    "        for submission in submissions:\n",
    "\n",
    "            try:\n",
    "                process_post()\n",
    "                post = get_dict_from_submission(submission)\n",
    "                if(post['user'] in unique):\n",
    "                    continue\n",
    "                if not post['title'] or not post['body'] or post['body'] == \"[removed]\": \n",
    "                    continue \n",
    "                countrol_group_posts.append(post)\n",
    "                control_group_counter[post['sub']] += 1\n",
    "                control_users.add(post['user'])\n",
    "            except Exception:\n",
    "                continue\n",
    "    \n",
    "    except Exception:\n",
    "        print(\"Exception2: \", sys.exc_info()[0])\n",
    "\n",
    "\n",
    "unrelated_subs = [[\"AskReddit\", 1196],[\"AskWomen\", 6], [\"legaladvice\", 93],[\"pettyrevenge\",8],[\"ProRevenge\",8],\\\n",
    "                  [\"AskHistorians\",0], [\"TrueAskReddit\",8],\\\n",
    "                  [\"TalesFromRetail\", 8], [\"technology\", 3], [\"IAmA\", 1000], \\\n",
    "                  [\"DoesAnybodyElse\", 500], [\"explainlikeimfive\", 10] , [\"politics\", 10], \\\n",
    "                  [\"todayilearned\", 100], [\"NoStupidQuestions\", 278], [\"Advice\", 257], \\\n",
    "                  [\"NoFap\", 225], [\"relationship_advice\", 222], [\"aww\", 220], [\"unpopularopinion\", 190], \\\n",
    "                  [\"Showerthoughts\", 184], [\"cats\", 161], [\"trees\", 152],   \\\n",
    "                  [\"ibs\", 141], [\"relationships\", 140], [\"BreakUps\", 137], [\"Drugs\", 133], [\"teenagers\", 132],\\\n",
    "                  [\"memes\", 130], [\"Christianity\", 125],  [\"GERD\", 121], [\"stopdrinking\", 119], [\"rant\", 116],\\\n",
    "                  [\"lonely\", 111], [\"AnimalCrossing\", 111], [\"Dentistry\", 107], \\\n",
    "                  [\"SkincareAddiction\", 104], [\"tipofmytongue\", 103], [\"AmItheAsshole\", 102],[\"Vent\", 98], \\\n",
    "                  [\"dogs\", 96], [\"TooAfraidToAsk\", 94],  [\"CasualConversation\", 92],\\\n",
    "                  [\"sex\", 89],  [\"dating_advice\", 81], [\"birthcontrol\", 78], \\\n",
    "                  [\"funny\", 78], [\"socialskills\", 78], [\"MadeOfStyrofoam\", 78], [\"techsupport\", 77], \\\n",
    "                  [\"personalfinance\", 76], [\"Dreams\", 76], [\"DecidingToBeBetter\", 72], [\"college\", 71], \\\n",
    "                  [\"pics\", 70], [\"buildapc\", 70]]\n",
    "\n",
    "unrelated_subs_top_30 = unrelated_subs[0:50]\n",
    "\n",
    "for sub in unrelated_subs_top_30:\n",
    "    fetch_non_anxious_users_posts(sub[0])\n"
   ]
  },
  {
   "cell_type": "code",
   "execution_count": 291,
   "metadata": {},
   "outputs": [
    {
     "ename": "TypeError",
     "evalue": "search() missing 1 required positional argument: 'query'",
     "output_type": "error",
     "traceback": [
      "\u001b[0;31m---------------------------------------------------------------------------\u001b[0m",
      "\u001b[0;31mTypeError\u001b[0m                                 Traceback (most recent call last)",
      "\u001b[0;32m<ipython-input-291-e15f9810a4a2>\u001b[0m in \u001b[0;36m<module>\u001b[0;34m\u001b[0m\n\u001b[0;32m----> 1\u001b[0;31m \u001b[0;32mfor\u001b[0m \u001b[0mpost\u001b[0m \u001b[0;32min\u001b[0m \u001b[0mreddit\u001b[0m\u001b[0;34m.\u001b[0m\u001b[0msubreddit\u001b[0m\u001b[0;34m(\u001b[0m\u001b[0;34m'IAmA'\u001b[0m\u001b[0;34m)\u001b[0m\u001b[0;34m.\u001b[0m\u001b[0msearch\u001b[0m\u001b[0;34m(\u001b[0m\u001b[0mlimit\u001b[0m\u001b[0;34m=\u001b[0m\u001b[0;36m10\u001b[0m\u001b[0;34m)\u001b[0m\u001b[0;34m:\u001b[0m\u001b[0;34m\u001b[0m\u001b[0;34m\u001b[0m\u001b[0m\n\u001b[0m\u001b[1;32m      2\u001b[0m     \u001b[0mprint\u001b[0m\u001b[0;34m(\u001b[0m\u001b[0mpost\u001b[0m\u001b[0;34m.\u001b[0m\u001b[0mtitle\u001b[0m\u001b[0;34m)\u001b[0m\u001b[0;34m\u001b[0m\u001b[0;34m\u001b[0m\u001b[0m\n",
      "\u001b[0;31mTypeError\u001b[0m: search() missing 1 required positional argument: 'query'"
     ]
    }
   ],
   "source": [
    "for post in reddit.subreddit('IAmA').search(limit=10):\n",
    "    print(post.title)"
   ]
  },
  {
   "cell_type": "code",
   "execution_count": 293,
   "metadata": {},
   "outputs": [
    {
     "name": "stdout",
     "output_type": "stream",
     "text": [
      "[('IAmA', 979), ('TalesFromRetail', 951), ('legaladvice', 937), ('pettyrevenge', 936), ('AmItheAsshole', 935), ('techsupport', 933), ('CasualConversation', 895), ('ProRevenge', 881), ('Vent', 878), ('rant', 874), ('GERD', 867), ('Advice', 864), ('dating_advice', 859), ('unpopularopinion', 858), ('sex', 840), ('stopdrinking', 835), ('relationships', 830), ('socialskills', 825), ('relationship_advice', 816), ('dogs', 816), ('Dentistry', 814), ('tipofmytongue', 807), ('BreakUps', 748), ('birthcontrol', 726), ('lonely', 711), ('TooAfraidToAsk', 688), ('TrueAskReddit', 687), ('Drugs', 668), ('NoStupidQuestions', 547), ('AskHistorians', 507), ('Christianity', 380), ('DoesAnybodyElse', 363), ('AskWomen', 357), ('explainlikeimfive', 313), ('NoFap', 293), ('ibs', 153), ('teenagers', 150), ('Showerthoughts', 118), ('politics', 73), ('SkincareAddiction', 73), ('trees', 63), ('technology', 25), ('AskReddit', 11), ('MadeOfStyrofoam', 5), ('AnimalCrossing', 3), ('aww', 1)]\n"
     ]
    }
   ],
   "source": [
    "print(control_group_counter.most_common())"
   ]
  },
  {
   "cell_type": "code",
   "execution_count": 294,
   "metadata": {},
   "outputs": [],
   "source": [
    "dump_data('dataset/reddit-control.json', countrol_group_posts)\n",
    "dump_data('dataset/reddit-control-counter.txt', control_group_counter.most_common())"
   ]
  },
  {
   "cell_type": "code",
   "execution_count": 295,
   "metadata": {},
   "outputs": [],
   "source": [
    "jsonDF = pd.read_json('dataset/reddit-control.json')\n",
    "jsonDF.to_csv('dataset/reddit-control.csv')"
   ]
  },
  {
   "cell_type": "code",
   "execution_count": 296,
   "metadata": {},
   "outputs": [
    {
     "data": {
      "text/plain": [
       "26893"
      ]
     },
     "execution_count": 296,
     "metadata": {},
     "output_type": "execute_result"
    }
   ],
   "source": [
    "len(jsonDF)"
   ]
  },
  {
   "cell_type": "code",
   "execution_count": null,
   "metadata": {},
   "outputs": [],
   "source": []
  }
 ],
 "metadata": {
  "kernelspec": {
   "display_name": "Python 3",
   "language": "python",
   "name": "python3"
  },
  "language_info": {
   "codemirror_mode": {
    "name": "ipython",
    "version": 3
   },
   "file_extension": ".py",
   "mimetype": "text/x-python",
   "name": "python",
   "nbconvert_exporter": "python",
   "pygments_lexer": "ipython3",
   "version": "3.6.10"
  }
 },
 "nbformat": 4,
 "nbformat_minor": 4
}





# after reducing dimension to around 50, using PCA, do this visualization
#import numpy as np
#from sklearn.manifold import TSNE
#X = np.array([[0, 0, 0], [0, 1, 1], [1, 0, 1], [1, 1, 1]])
#X_embedded = TSNE(n_components=2).fit_transform(X)
