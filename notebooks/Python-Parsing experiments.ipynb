{
 "cells": [
  {
   "cell_type": "code",
   "execution_count": null,
   "metadata": {},
   "outputs": [],
   "source": [
    "import requests\n",
    "import csv\n",
    "import time\n",
    "from bs4 import BeautifulSoup\n",
    "from collections import Counter\n",
    "import praw\n",
    "import pandas as pd\n",
    "import datetime as dt #only if you want to analyze the date created feature\n",
    "import json "
   ]
  },
  {
   "cell_type": "code",
   "execution_count": 2,
   "metadata": {},
   "outputs": [],
   "source": [
    "class SetEncoder(json.JSONEncoder):\n",
    "    def default(self, obj):\n",
    "        if isinstance(obj, set): return list(obj)\n",
    "        return json.JSONEncoder.default(self, obj)"
   ]
  },
  {
   "cell_type": "code",
   "execution_count": 3,
   "metadata": {},
   "outputs": [],
   "source": [
    "# Opening JSON file \n",
    "f = open('dont-change.json',) \n",
    "  \n",
    "# returns JSON object as  \n",
    "# a dictionary \n",
    "data = json.load(f)['selection2']\n",
    "  \n",
    "\n",
    "unique = [ each['name'].replace(\"u/\", \"\") for each in data]\n",
    "\n",
    "with open('result.json', 'w') as fp:\n",
    "    json.dump(unique, fp)\n",
    "\n",
    "    \n",
    "f.close() "
   ]
  },
  {
   "cell_type": "code",
   "execution_count": null,
   "metadata": {},
   "outputs": [],
   "source": []
  },
  {
   "cell_type": "code",
   "execution_count": 4,
   "metadata": {},
   "outputs": [],
   "source": [
    "reddit = praw.Reddit(client_id='A1ufXY3vdi2vpA', \n",
    "                     client_secret='nO1tFwJCFGiegR4NQzcMEbPze0g', \n",
    "                     user_agent='Script', \n",
    "                     username='', \n",
    "                     password='')"
   ]
  },
  {
   "cell_type": "code",
   "execution_count": 18,
   "metadata": {},
   "outputs": [],
   "source": [
    "def get_dict_from_submission(submission):\n",
    "    return {'sub': submission.subreddit.display_name, \\\n",
    "            'title': submission.title, \\\n",
    "            'body' : submission.selftext, \\\n",
    "            'num_u' : submission.score, \\\n",
    "            'url' : submission.url, \\\n",
    "            'num_c' : submission.num_comments, \\\n",
    "            'time': submission.created \\\n",
    "    }\n",
    "\n",
    "def init_vars():\n",
    "    return [], 0,0\n",
    "\n",
    "def print_progress(user_count):\n",
    "    if user_count%50==0:  print(\"Handling user: \", user_count)  \n",
    "\n",
    "def process_user(user):\n",
    "    global user_count\n",
    "    print_progress(user_count)\n",
    "    user_count += 1\n",
    "    \n",
    "def dump_data(file_name, data):\n",
    "    if isinstance(data, set): \n",
    "        data = json.dumps(data, cls=SetEncoder)\n",
    "        \n",
    "    with open(file_name, 'w') as fp:\n",
    "        json.dump(data, fp)    "
   ]
  },
  {
   "cell_type": "code",
   "execution_count": 19,
   "metadata": {},
   "outputs": [
    {
     "name": "stdout",
     "output_type": "stream",
     "text": [
      "Handling user:  0\n",
      "Handling user:  50\n",
      "Handling user:  100\n",
      "Handling user:  150\n",
      "Handling user:  200\n",
      "Handling user:  250\n",
      "Handling user:  300\n",
      "Handling user:  350\n",
      "Handling user:  400\n",
      "Handling user:  450\n",
      "Handling user:  500\n",
      "Handling user:  550\n",
      "Handling user:  600\n",
      "Handling user:  650\n",
      "Handling user:  700\n",
      "Handling user:  750\n",
      "Handling user:  800\n",
      "Handling user:  850\n",
      "Handling user:  900\n",
      "Handling user:  950\n"
     ]
    }
   ],
   "source": [
    "# STATICS\n",
    "\n",
    "TOTAL_USERS = 1000\n",
    "LIM = 50\n",
    "MENTAL_ILLNESS_SUBREDDITS = ['MentalHealthSupport','antidepressants','socialanxiety','medical_advice','raisedbynarcissists','GeneticCounseling','ADHDAccountability','Dissociation','Anxiety', 'AnxietyDepression', 'socialanxiety', 'panicdisorder', 'PanicParty', 'HealthAnxiety', 'depression', 'SuicideWatch', 'OCD' , 'TrueOffMyChest', 'mentalhealth', 'offmychest', 'emotionalsupport', 'therapy', 'ADHD','AskDocs']\n",
    "\n",
    "\n",
    "# COUNTERS\n",
    "\n",
    "user_count = 0\n",
    "total_post_count = 0\n",
    "\n",
    "\n",
    "# RESULTS\n",
    "\n",
    "results = {}\n",
    "non_mental_health_subs = set()\n",
    "subreddit_counter = Counter()\n",
    "\n",
    "# get the submissions\n",
    "\n",
    "users_submissions = [(reddit.redditor(user).submissions.new(limit=LIM), user) for user in unique[0:TOTAL_USERS]]\n",
    "\n",
    "\n",
    "# main processing happens here:\n",
    "\n",
    "for submissions, user in users_submissions:\n",
    "    \n",
    "    process_user(user) # print and increment count\n",
    "    \n",
    "    user_result, mental_ill_count, control_count = init_vars() # initializes empty variables\n",
    "  \n",
    "    try: # because 404 HTTP errors in reading submissions sometimes\n",
    "        for submission in submissions:\n",
    "            \n",
    "            try: # to avoid null etc. errors\n",
    "                \n",
    "                # if title doesn't exist \n",
    "                # or body doesn't exist\n",
    "                # or we already have 10 posts from user\n",
    "                # or post is removed\n",
    "                # then skip\n",
    "                \n",
    "                if not submission.title \\\n",
    "                or not submission.selftext \\\n",
    "                or (mental_ill_count > 5 and control_count > 5) \\\n",
    "                or submission.selftext == \"[removed]\": \n",
    "                    continue \n",
    "\n",
    "                # sub-reddit related work \n",
    "                \n",
    "                subreddit_counter[submission.subreddit.display_name] += 1\n",
    "                \n",
    "                if submission.subreddit.display_name in MENTAL_ILLNESS_SUBREDDITS: mental_ill_count += 1\n",
    "                else: \n",
    "                    control_count += 1\n",
    "                    non_mental_health_subs.add(submission.subreddit.display_name)\n",
    "\n",
    "                    \n",
    "                # add the post to user's results\n",
    "                total_post_count += 1\n",
    "                user_result.append(get_dict_from_submission(submission))\n",
    "                \n",
    "            except:\n",
    "                continue\n",
    "        \n",
    "        # if the user has at least 2 posts in each group, add to final result\n",
    "        if(mental_ill_count > 2 and control_count > 2): results[user] = (user_result)\n",
    "            \n",
    "    except:\n",
    "        continue\n",
    "    "
   ]
  },
  {
   "cell_type": "code",
   "execution_count": 20,
   "metadata": {},
   "outputs": [],
   "source": [
    "dump_data('reddit-data.json', results)\n",
    "dump_data('reddit_sub_names.json', non_mental_health_subs)\n",
    "dump_data('reddit_sub_counter.json', subreddit_counter.most_common())"
   ]
  },
  {
   "cell_type": "code",
   "execution_count": 21,
   "metadata": {},
   "outputs": [
    {
     "name": "stdout",
     "output_type": "stream",
     "text": [
      "11526\n"
     ]
    }
   ],
   "source": [
    "print(total_post_count)"
   ]
  },
  {
   "cell_type": "code",
   "execution_count": null,
   "metadata": {},
   "outputs": [],
   "source": []
  },
  {
   "cell_type": "code",
   "execution_count": null,
   "metadata": {},
   "outputs": [],
   "source": []
  },
  {
   "cell_type": "code",
   "execution_count": null,
   "metadata": {},
   "outputs": [],
   "source": []
  }
 ],
 "metadata": {
  "kernelspec": {
   "display_name": "Python 3",
   "language": "python",
   "name": "python3"
  },
  "language_info": {
   "codemirror_mode": {
    "name": "ipython",
    "version": 3
   },
   "file_extension": ".py",
   "mimetype": "text/x-python",
   "name": "python",
   "nbconvert_exporter": "python",
   "pygments_lexer": "ipython3",
   "version": "3.6.10"
  }
 },
 "nbformat": 4,
 "nbformat_minor": 4
}
