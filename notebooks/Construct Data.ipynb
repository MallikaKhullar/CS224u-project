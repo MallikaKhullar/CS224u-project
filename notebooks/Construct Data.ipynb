{
 "cells": [
  {
   "cell_type": "code",
   "execution_count": 120,
   "metadata": {},
   "outputs": [],
   "source": [
    "import requests\n",
    "import csv\n",
    "import time\n",
    "from bs4 import BeautifulSoup\n",
    "from collections import Counter\n",
    "import praw\n",
    "import pandas as pd\n",
    "import datetime as dt #only if you want to analyze the date created feature\n",
    "import json \n",
    "from types import SimpleNamespace\n",
    "import sys\n",
    "import datetime as dt\n",
    "import importlib"
   ]
  },
  {
   "cell_type": "markdown",
   "metadata": {},
   "source": [
    "## Code for Constructing the Dataset for our CS 224U Project\n",
    "\n",
    "### PRAW\n",
    "1. Generated a prelim list of users who've posts on r/Anxiety using ParseHub\n",
    "2. Using the Reddit API through praw (initially was trying to use BeautifulSoup, but Reddit API is easier) to fetch posts by users\n",
    "3. Future work: Optimise python processing \n",
    "\n",
    "\n",
    "### Four categories\n",
    "1. ANXIOUS-USERS Mental Illness Related Subreddits - ('men')\n",
    "2. ANXIOUS-USERS Anxiety Related Subreddits (subset of first group) - ('anx')\n",
    "3. ANXIOUS-USERS Neutral Subreddits (Mutually exclusive from first group) - ('unr')"
   ]
  },
  {
   "cell_type": "markdown",
   "metadata": {},
   "source": [
    "### Utils"
   ]
  },
  {
   "cell_type": "code",
   "execution_count": 33,
   "metadata": {},
   "outputs": [],
   "source": [
    "class SetEncoder(json.JSONEncoder):\n",
    "    '''Using SetEncoder to JSONify our individual result sets'''\n",
    "    def default(self, obj):\n",
    "        if isinstance(obj, set): return list(obj)\n",
    "        return json.JSONEncoder.default(self, obj)\n",
    "    \n",
    "reddit = praw.Reddit(client_id='A1ufXY3vdi2vpA', \n",
    "                 client_secret='nO1tFwJCFGiegR4NQzcMEbPze0g', \n",
    "                 user_agent='Script', \n",
    "                 username='sophiemiya', \n",
    "                 password='stevie13weedR')\n",
    "\n",
    "from psaw import PushshiftAPI\n",
    "api = PushshiftAPI()"
   ]
  },
  {
   "cell_type": "markdown",
   "metadata": {},
   "source": [
    "### Collect User List"
   ]
  },
  {
   "cell_type": "code",
   "execution_count": 21,
   "metadata": {},
   "outputs": [],
   "source": [
    "import ast\n",
    "with open('dataset/all-users-dont-change.txt','r') as f:\n",
    "    my_set = str(ast.literal_eval(f.read()))\n",
    "    unique = ast.literal_eval(my_set)"
   ]
  },
  {
   "cell_type": "code",
   "execution_count": null,
   "metadata": {},
   "outputs": [],
   "source": [
    "# COLLECT USERS THROUGH PRAW (LATEST 1000 POSTS EACH SUB)\n",
    "\n",
    "# unique = set()\n",
    "\n",
    "# def add_to_unique_users(sub):\n",
    "#     print(\"Get from praw for sub: \", sub)\n",
    "#     panic_party_posts = reddit.subreddit(sub).top(limit=1000)\n",
    "#     panic_users = [post.author.name for post in panic_party_posts if post.author is not None]\n",
    "#     unique.update(panic_users)\n",
    "\n",
    "# for sub in SUBS_ANX:\n",
    "#     add_to_unique_users(sub)"
   ]
  },
  {
   "cell_type": "code",
   "execution_count": null,
   "metadata": {},
   "outputs": [],
   "source": [
    "# COLLECT USERS THROUGH PSAW (1000 POSTS EACH SUB BY YEAR)\n",
    "# def get_from_psaw(start_epoch, sub):\n",
    "\n",
    "#     return [sub.author for sub in api.search_submissions(before=start_epoch,\n",
    "#                             subreddit=sub,\n",
    "#                             filter=['author'],\n",
    "#                             limit=1000)]\n",
    "    \n",
    "# for sub in SUBS_ANX:\n",
    "#     print(\"Get from psaw for sub: \", sub)\n",
    "#     unique.update(get_from_psaw(int(dt.datetime(2019, 12, 1).timestamp()), sub))\n",
    "#     unique.update(get_from_psaw(int(dt.datetime(2018, 12, 1).timestamp()), sub))\n",
    "#     unique.update(get_from_psaw(int(dt.datetime(2017, 12, 1).timestamp()), sub))\n",
    "\n",
    "# dump_data('dataset/all-users-dont-change.txt', unique)"
   ]
  },
  {
   "cell_type": "code",
   "execution_count": 121,
   "metadata": {},
   "outputs": [
    {
     "data": {
      "text/plain": [
       "14299"
      ]
     },
     "execution_count": 121,
     "metadata": {},
     "output_type": "execute_result"
    }
   ],
   "source": [
    "# TOTAL NUMBER OF UNIQUE USERS\n",
    "len(unique)"
   ]
  },
  {
   "cell_type": "code",
   "execution_count": 152,
   "metadata": {},
   "outputs": [],
   "source": [
    "LIM = 30 # num of posts per user\n",
    "categories = get_fresh_counters()"
   ]
  },
  {
   "cell_type": "code",
   "execution_count": 153,
   "metadata": {},
   "outputs": [],
   "source": [
    "results = {} # stores actual result here\n",
    "results_user_names = [] # stores final user names here\n",
    "\n",
    "\n",
    "# COUNTERS\n",
    "\n",
    "result_user_count = 0 # counts the total valid users we get by the end\n",
    "result_post_count = 0 # counts the total valid posts we get by the end"
   ]
  },
  {
   "cell_type": "code",
   "execution_count": 154,
   "metadata": {},
   "outputs": [
    {
     "name": "stdout",
     "output_type": "stream",
     "text": [
      "Batch: 0 \n",
      "\n",
      "496/500 users\n",
      "\n",
      "Batch: 1 \n",
      "\n",
      "496/500 users\n",
      "\n",
      "Batch: 2 \n",
      "\n",
      "4/500 users\r"
     ]
    },
    {
     "ename": "KeyboardInterrupt",
     "evalue": "",
     "output_type": "error",
     "traceback": [
      "\u001b[0;31m---------------------------------------------------------------------------\u001b[0m",
      "\u001b[0;31mKeyboardInterrupt\u001b[0m                         Traceback (most recent call last)",
      "\u001b[0;32m<ipython-input-154-f125de69da28>\u001b[0m in \u001b[0;36m<module>\u001b[0;34m\u001b[0m\n\u001b[1;32m     77\u001b[0m \u001b[0;32mfor\u001b[0m \u001b[0mi\u001b[0m \u001b[0;32min\u001b[0m \u001b[0mrange\u001b[0m\u001b[0;34m(\u001b[0m\u001b[0;36m0\u001b[0m\u001b[0;34m,\u001b[0m\u001b[0mlen\u001b[0m\u001b[0;34m(\u001b[0m\u001b[0munique\u001b[0m\u001b[0;34m)\u001b[0m\u001b[0;34m)\u001b[0m\u001b[0;34m:\u001b[0m\u001b[0;34m\u001b[0m\u001b[0;34m\u001b[0m\u001b[0m\n\u001b[1;32m     78\u001b[0m     \u001b[0mprint\u001b[0m\u001b[0;34m(\u001b[0m\u001b[0;34m\"Batch:\"\u001b[0m\u001b[0;34m,\u001b[0m \u001b[0mbatch_count\u001b[0m\u001b[0;34m,\u001b[0m \u001b[0;34m\"\\n\"\u001b[0m\u001b[0;34m)\u001b[0m\u001b[0;34m\u001b[0m\u001b[0;34m\u001b[0m\u001b[0m\n\u001b[0;32m---> 79\u001b[0;31m     \u001b[0mget_data_for_users\u001b[0m\u001b[0;34m(\u001b[0m\u001b[0mi\u001b[0m\u001b[0;34m,\u001b[0m \u001b[0mi\u001b[0m\u001b[0;34m+\u001b[0m\u001b[0;36m500\u001b[0m\u001b[0;34m)\u001b[0m\u001b[0;34m\u001b[0m\u001b[0;34m\u001b[0m\u001b[0m\n\u001b[0m\u001b[1;32m     80\u001b[0m     \u001b[0mprint\u001b[0m\u001b[0;34m(\u001b[0m\u001b[0;34m\"\\n\"\u001b[0m\u001b[0;34m)\u001b[0m\u001b[0;34m\u001b[0m\u001b[0;34m\u001b[0m\u001b[0m\n\u001b[1;32m     81\u001b[0m     \u001b[0mi\u001b[0m \u001b[0;34m+=\u001b[0m \u001b[0;36m500\u001b[0m\u001b[0;34m\u001b[0m\u001b[0;34m\u001b[0m\u001b[0m\n",
      "\u001b[0;32m<ipython-input-154-f125de69da28>\u001b[0m in \u001b[0;36mget_data_for_users\u001b[0;34m(start, end)\u001b[0m\n\u001b[1;32m     21\u001b[0m \u001b[0;34m\u001b[0m\u001b[0m\n\u001b[1;32m     22\u001b[0m         \u001b[0;32mtry\u001b[0m\u001b[0;34m:\u001b[0m \u001b[0;31m# 404 HTTP errors\u001b[0m\u001b[0;34m\u001b[0m\u001b[0;34m\u001b[0m\u001b[0m\n\u001b[0;32m---> 23\u001b[0;31m             \u001b[0muser_submissions\u001b[0m \u001b[0;34m=\u001b[0m \u001b[0mlist\u001b[0m\u001b[0;34m(\u001b[0m\u001b[0muser_submissions\u001b[0m\u001b[0;34m)\u001b[0m\u001b[0;34m\u001b[0m\u001b[0;34m\u001b[0m\u001b[0m\n\u001b[0m\u001b[1;32m     24\u001b[0m \u001b[0;34m\u001b[0m\u001b[0m\n\u001b[1;32m     25\u001b[0m             \u001b[0;32mif\u001b[0m \u001b[0mlen\u001b[0m\u001b[0;34m(\u001b[0m\u001b[0muser_submissions\u001b[0m\u001b[0;34m)\u001b[0m \u001b[0;34m<\u001b[0m \u001b[0;36m4\u001b[0m\u001b[0;34m:\u001b[0m \u001b[0;32mcontinue\u001b[0m \u001b[0;31m# user should have at least 4 posts\u001b[0m\u001b[0;34m\u001b[0m\u001b[0;34m\u001b[0m\u001b[0m\n",
      "\u001b[0;32m~/anaconda3/envs/nlu/lib/python3.6/site-packages/praw/models/listing/generator.py\u001b[0m in \u001b[0;36m__next__\u001b[0;34m(self)\u001b[0m\n\u001b[1;32m     59\u001b[0m \u001b[0;34m\u001b[0m\u001b[0m\n\u001b[1;32m     60\u001b[0m         \u001b[0;32mif\u001b[0m \u001b[0mself\u001b[0m\u001b[0;34m.\u001b[0m\u001b[0m_listing\u001b[0m \u001b[0;32mis\u001b[0m \u001b[0;32mNone\u001b[0m \u001b[0;32mor\u001b[0m \u001b[0mself\u001b[0m\u001b[0;34m.\u001b[0m\u001b[0m_list_index\u001b[0m \u001b[0;34m>=\u001b[0m \u001b[0mlen\u001b[0m\u001b[0;34m(\u001b[0m\u001b[0mself\u001b[0m\u001b[0;34m.\u001b[0m\u001b[0m_listing\u001b[0m\u001b[0;34m)\u001b[0m\u001b[0;34m:\u001b[0m\u001b[0;34m\u001b[0m\u001b[0;34m\u001b[0m\u001b[0m\n\u001b[0;32m---> 61\u001b[0;31m             \u001b[0mself\u001b[0m\u001b[0;34m.\u001b[0m\u001b[0m_next_batch\u001b[0m\u001b[0;34m(\u001b[0m\u001b[0;34m)\u001b[0m\u001b[0;34m\u001b[0m\u001b[0;34m\u001b[0m\u001b[0m\n\u001b[0m\u001b[1;32m     62\u001b[0m \u001b[0;34m\u001b[0m\u001b[0m\n\u001b[1;32m     63\u001b[0m         \u001b[0mself\u001b[0m\u001b[0;34m.\u001b[0m\u001b[0m_list_index\u001b[0m \u001b[0;34m+=\u001b[0m \u001b[0;36m1\u001b[0m\u001b[0;34m\u001b[0m\u001b[0;34m\u001b[0m\u001b[0m\n",
      "\u001b[0;32m~/anaconda3/envs/nlu/lib/python3.6/site-packages/praw/models/listing/generator.py\u001b[0m in \u001b[0;36m_next_batch\u001b[0;34m(self)\u001b[0m\n\u001b[1;32m     69\u001b[0m             \u001b[0;32mraise\u001b[0m \u001b[0mStopIteration\u001b[0m\u001b[0;34m(\u001b[0m\u001b[0;34m)\u001b[0m\u001b[0;34m\u001b[0m\u001b[0;34m\u001b[0m\u001b[0m\n\u001b[1;32m     70\u001b[0m \u001b[0;34m\u001b[0m\u001b[0m\n\u001b[0;32m---> 71\u001b[0;31m         \u001b[0mself\u001b[0m\u001b[0;34m.\u001b[0m\u001b[0m_listing\u001b[0m \u001b[0;34m=\u001b[0m \u001b[0mself\u001b[0m\u001b[0;34m.\u001b[0m\u001b[0m_reddit\u001b[0m\u001b[0;34m.\u001b[0m\u001b[0mget\u001b[0m\u001b[0;34m(\u001b[0m\u001b[0mself\u001b[0m\u001b[0;34m.\u001b[0m\u001b[0murl\u001b[0m\u001b[0;34m,\u001b[0m \u001b[0mparams\u001b[0m\u001b[0;34m=\u001b[0m\u001b[0mself\u001b[0m\u001b[0;34m.\u001b[0m\u001b[0mparams\u001b[0m\u001b[0;34m)\u001b[0m\u001b[0;34m\u001b[0m\u001b[0;34m\u001b[0m\u001b[0m\n\u001b[0m\u001b[1;32m     72\u001b[0m         \u001b[0;32mif\u001b[0m \u001b[0misinstance\u001b[0m\u001b[0;34m(\u001b[0m\u001b[0mself\u001b[0m\u001b[0;34m.\u001b[0m\u001b[0m_listing\u001b[0m\u001b[0;34m,\u001b[0m \u001b[0mlist\u001b[0m\u001b[0;34m)\u001b[0m\u001b[0;34m:\u001b[0m\u001b[0;34m\u001b[0m\u001b[0;34m\u001b[0m\u001b[0m\n\u001b[1;32m     73\u001b[0m             \u001b[0mself\u001b[0m\u001b[0;34m.\u001b[0m\u001b[0m_listing\u001b[0m \u001b[0;34m=\u001b[0m \u001b[0mself\u001b[0m\u001b[0;34m.\u001b[0m\u001b[0m_listing\u001b[0m\u001b[0;34m[\u001b[0m\u001b[0;36m1\u001b[0m\u001b[0;34m]\u001b[0m  \u001b[0;31m# for submission duplicates\u001b[0m\u001b[0;34m\u001b[0m\u001b[0;34m\u001b[0m\u001b[0m\n",
      "\u001b[0;32m~/anaconda3/envs/nlu/lib/python3.6/site-packages/praw/reddit.py\u001b[0m in \u001b[0;36mget\u001b[0;34m(self, path, params)\u001b[0m\n\u001b[1;32m    488\u001b[0m \u001b[0;34m\u001b[0m\u001b[0m\n\u001b[1;32m    489\u001b[0m         \"\"\"\n\u001b[0;32m--> 490\u001b[0;31m         \u001b[0;32mreturn\u001b[0m \u001b[0mself\u001b[0m\u001b[0;34m.\u001b[0m\u001b[0m_objectify_request\u001b[0m\u001b[0;34m(\u001b[0m\u001b[0mmethod\u001b[0m\u001b[0;34m=\u001b[0m\u001b[0;34m\"GET\"\u001b[0m\u001b[0;34m,\u001b[0m \u001b[0mparams\u001b[0m\u001b[0;34m=\u001b[0m\u001b[0mparams\u001b[0m\u001b[0;34m,\u001b[0m \u001b[0mpath\u001b[0m\u001b[0;34m=\u001b[0m\u001b[0mpath\u001b[0m\u001b[0;34m)\u001b[0m\u001b[0;34m\u001b[0m\u001b[0;34m\u001b[0m\u001b[0m\n\u001b[0m\u001b[1;32m    491\u001b[0m \u001b[0;34m\u001b[0m\u001b[0m\n\u001b[1;32m    492\u001b[0m     def info(\n",
      "\u001b[0;32m~/anaconda3/envs/nlu/lib/python3.6/site-packages/praw/reddit.py\u001b[0m in \u001b[0;36m_objectify_request\u001b[0;34m(self, data, files, method, params, path)\u001b[0m\n\u001b[1;32m    572\u001b[0m         return self._objector.objectify(\n\u001b[1;32m    573\u001b[0m             self.request(\n\u001b[0;32m--> 574\u001b[0;31m                 \u001b[0mdata\u001b[0m\u001b[0;34m=\u001b[0m\u001b[0mdata\u001b[0m\u001b[0;34m,\u001b[0m \u001b[0mfiles\u001b[0m\u001b[0;34m=\u001b[0m\u001b[0mfiles\u001b[0m\u001b[0;34m,\u001b[0m \u001b[0mmethod\u001b[0m\u001b[0;34m=\u001b[0m\u001b[0mmethod\u001b[0m\u001b[0;34m,\u001b[0m \u001b[0mparams\u001b[0m\u001b[0;34m=\u001b[0m\u001b[0mparams\u001b[0m\u001b[0;34m,\u001b[0m \u001b[0mpath\u001b[0m\u001b[0;34m=\u001b[0m\u001b[0mpath\u001b[0m\u001b[0;34m\u001b[0m\u001b[0;34m\u001b[0m\u001b[0m\n\u001b[0m\u001b[1;32m    575\u001b[0m             )\n\u001b[1;32m    576\u001b[0m         )\n",
      "\u001b[0;32m~/anaconda3/envs/nlu/lib/python3.6/site-packages/praw/reddit.py\u001b[0m in \u001b[0;36mrequest\u001b[0;34m(self, method, path, params, data, files)\u001b[0m\n\u001b[1;32m    730\u001b[0m                 \u001b[0mfiles\u001b[0m\u001b[0;34m=\u001b[0m\u001b[0mfiles\u001b[0m\u001b[0;34m,\u001b[0m\u001b[0;34m\u001b[0m\u001b[0;34m\u001b[0m\u001b[0m\n\u001b[1;32m    731\u001b[0m                 \u001b[0mparams\u001b[0m\u001b[0;34m=\u001b[0m\u001b[0mparams\u001b[0m\u001b[0;34m,\u001b[0m\u001b[0;34m\u001b[0m\u001b[0;34m\u001b[0m\u001b[0m\n\u001b[0;32m--> 732\u001b[0;31m                 \u001b[0mtimeout\u001b[0m\u001b[0;34m=\u001b[0m\u001b[0mself\u001b[0m\u001b[0;34m.\u001b[0m\u001b[0mconfig\u001b[0m\u001b[0;34m.\u001b[0m\u001b[0mtimeout\u001b[0m\u001b[0;34m,\u001b[0m\u001b[0;34m\u001b[0m\u001b[0;34m\u001b[0m\u001b[0m\n\u001b[0m\u001b[1;32m    733\u001b[0m             )\n\u001b[1;32m    734\u001b[0m         \u001b[0;32mexcept\u001b[0m \u001b[0mBadRequest\u001b[0m \u001b[0;32mas\u001b[0m \u001b[0mexception\u001b[0m\u001b[0;34m:\u001b[0m\u001b[0;34m\u001b[0m\u001b[0;34m\u001b[0m\u001b[0m\n",
      "\u001b[0;32m~/anaconda3/envs/nlu/lib/python3.6/site-packages/prawcore/sessions.py\u001b[0m in \u001b[0;36mrequest\u001b[0;34m(self, method, path, data, files, json, params, timeout)\u001b[0m\n\u001b[1;32m    334\u001b[0m             \u001b[0mparams\u001b[0m\u001b[0;34m=\u001b[0m\u001b[0mparams\u001b[0m\u001b[0;34m,\u001b[0m\u001b[0;34m\u001b[0m\u001b[0;34m\u001b[0m\u001b[0m\n\u001b[1;32m    335\u001b[0m             \u001b[0mtimeout\u001b[0m\u001b[0;34m=\u001b[0m\u001b[0mtimeout\u001b[0m\u001b[0;34m,\u001b[0m\u001b[0;34m\u001b[0m\u001b[0;34m\u001b[0m\u001b[0m\n\u001b[0;32m--> 336\u001b[0;31m             \u001b[0murl\u001b[0m\u001b[0;34m=\u001b[0m\u001b[0murl\u001b[0m\u001b[0;34m,\u001b[0m\u001b[0;34m\u001b[0m\u001b[0;34m\u001b[0m\u001b[0m\n\u001b[0m\u001b[1;32m    337\u001b[0m         )\n\u001b[1;32m    338\u001b[0m \u001b[0;34m\u001b[0m\u001b[0m\n",
      "\u001b[0;32m~/anaconda3/envs/nlu/lib/python3.6/site-packages/prawcore/sessions.py\u001b[0m in \u001b[0;36m_request_with_retries\u001b[0;34m(self, data, files, json, method, params, timeout, url, retry_strategy_state)\u001b[0m\n\u001b[1;32m    233\u001b[0m             \u001b[0mretry_strategy_state\u001b[0m\u001b[0;34m,\u001b[0m\u001b[0;34m\u001b[0m\u001b[0;34m\u001b[0m\u001b[0m\n\u001b[1;32m    234\u001b[0m             \u001b[0mtimeout\u001b[0m\u001b[0;34m,\u001b[0m\u001b[0;34m\u001b[0m\u001b[0;34m\u001b[0m\u001b[0m\n\u001b[0;32m--> 235\u001b[0;31m             \u001b[0murl\u001b[0m\u001b[0;34m,\u001b[0m\u001b[0;34m\u001b[0m\u001b[0;34m\u001b[0m\u001b[0m\n\u001b[0m\u001b[1;32m    236\u001b[0m         )\n\u001b[1;32m    237\u001b[0m \u001b[0;34m\u001b[0m\u001b[0m\n",
      "\u001b[0;32m~/anaconda3/envs/nlu/lib/python3.6/site-packages/prawcore/sessions.py\u001b[0m in \u001b[0;36m_make_request\u001b[0;34m(self, data, files, json, method, params, retry_strategy_state, timeout, url)\u001b[0m\n\u001b[1;32m    193\u001b[0m                 \u001b[0mjson\u001b[0m\u001b[0;34m=\u001b[0m\u001b[0mjson\u001b[0m\u001b[0;34m,\u001b[0m\u001b[0;34m\u001b[0m\u001b[0;34m\u001b[0m\u001b[0m\n\u001b[1;32m    194\u001b[0m                 \u001b[0mparams\u001b[0m\u001b[0;34m=\u001b[0m\u001b[0mparams\u001b[0m\u001b[0;34m,\u001b[0m\u001b[0;34m\u001b[0m\u001b[0;34m\u001b[0m\u001b[0m\n\u001b[0;32m--> 195\u001b[0;31m                 \u001b[0mtimeout\u001b[0m\u001b[0;34m=\u001b[0m\u001b[0mtimeout\u001b[0m\u001b[0;34m,\u001b[0m\u001b[0;34m\u001b[0m\u001b[0;34m\u001b[0m\u001b[0m\n\u001b[0m\u001b[1;32m    196\u001b[0m             )\n\u001b[1;32m    197\u001b[0m             log.debug(\n",
      "\u001b[0;32m~/anaconda3/envs/nlu/lib/python3.6/site-packages/prawcore/rate_limit.py\u001b[0m in \u001b[0;36mcall\u001b[0;34m(self, request_function, set_header_callback, *args, **kwargs)\u001b[0m\n\u001b[1;32m     32\u001b[0m \u001b[0;34m\u001b[0m\u001b[0m\n\u001b[1;32m     33\u001b[0m         \"\"\"\n\u001b[0;32m---> 34\u001b[0;31m         \u001b[0mself\u001b[0m\u001b[0;34m.\u001b[0m\u001b[0mdelay\u001b[0m\u001b[0;34m(\u001b[0m\u001b[0;34m)\u001b[0m\u001b[0;34m\u001b[0m\u001b[0;34m\u001b[0m\u001b[0m\n\u001b[0m\u001b[1;32m     35\u001b[0m         \u001b[0mkwargs\u001b[0m\u001b[0;34m[\u001b[0m\u001b[0;34m\"headers\"\u001b[0m\u001b[0;34m]\u001b[0m \u001b[0;34m=\u001b[0m \u001b[0mset_header_callback\u001b[0m\u001b[0;34m(\u001b[0m\u001b[0;34m)\u001b[0m\u001b[0;34m\u001b[0m\u001b[0;34m\u001b[0m\u001b[0m\n\u001b[1;32m     36\u001b[0m         \u001b[0mresponse\u001b[0m \u001b[0;34m=\u001b[0m \u001b[0mrequest_function\u001b[0m\u001b[0;34m(\u001b[0m\u001b[0;34m*\u001b[0m\u001b[0margs\u001b[0m\u001b[0;34m,\u001b[0m \u001b[0;34m**\u001b[0m\u001b[0mkwargs\u001b[0m\u001b[0;34m)\u001b[0m\u001b[0;34m\u001b[0m\u001b[0;34m\u001b[0m\u001b[0m\n",
      "\u001b[0;32m~/anaconda3/envs/nlu/lib/python3.6/site-packages/prawcore/rate_limit.py\u001b[0m in \u001b[0;36mdelay\u001b[0;34m(self)\u001b[0m\n\u001b[1;32m     49\u001b[0m         )\n\u001b[1;32m     50\u001b[0m         \u001b[0mlog\u001b[0m\u001b[0;34m.\u001b[0m\u001b[0mdebug\u001b[0m\u001b[0;34m(\u001b[0m\u001b[0mmessage\u001b[0m\u001b[0;34m)\u001b[0m\u001b[0;34m\u001b[0m\u001b[0;34m\u001b[0m\u001b[0m\n\u001b[0;32m---> 51\u001b[0;31m         \u001b[0mtime\u001b[0m\u001b[0;34m.\u001b[0m\u001b[0msleep\u001b[0m\u001b[0;34m(\u001b[0m\u001b[0msleep_seconds\u001b[0m\u001b[0;34m)\u001b[0m\u001b[0;34m\u001b[0m\u001b[0;34m\u001b[0m\u001b[0m\n\u001b[0m\u001b[1;32m     52\u001b[0m \u001b[0;34m\u001b[0m\u001b[0m\n\u001b[1;32m     53\u001b[0m     \u001b[0;32mdef\u001b[0m \u001b[0mupdate\u001b[0m\u001b[0;34m(\u001b[0m\u001b[0mself\u001b[0m\u001b[0;34m,\u001b[0m \u001b[0mresponse_headers\u001b[0m\u001b[0;34m)\u001b[0m\u001b[0;34m:\u001b[0m\u001b[0;34m\u001b[0m\u001b[0;34m\u001b[0m\u001b[0m\n",
      "\u001b[0;31mKeyboardInterrupt\u001b[0m: "
     ]
    }
   ],
   "source": [
    "import tryutils\n",
    "importlib.reload(tryutils)\n",
    "from tryutils import SUBS_ANX, SUBS_MEN, get_fresh_counters, get_post_type,\\\n",
    "dump_data, process_user, init_vars, get_dict_from_submission, process_for_category\n",
    "\n",
    "def get_data_for_users(start, end):\n",
    "    global categories, result_user_count, result_post_count\n",
    "\n",
    "    user_count = 0 \n",
    "\n",
    "    # get the submissions\n",
    "    users_to_process = list(unique)[start:end]\n",
    "\n",
    "    users_submissions = [(reddit.redditor(user).submissions.new(limit=LIM), user) for user in users_to_process]\n",
    "    user_submissions_2 = [] # need this because of Praw iterator related bug\n",
    "\n",
    "    # main processing happens now:\n",
    "\n",
    "    for user_submissions, user in users_submissions: # for each user\n",
    "        user_count = process_user(user, user_count, (end-start)) # print \n",
    "\n",
    "        try: # 404 HTTP errors\n",
    "            user_submissions = list(user_submissions)\n",
    "\n",
    "            if len(user_submissions) < 4: continue # user should have at least 4 posts\n",
    "\n",
    "            user_result, count_related, count_unrelated  = init_vars() \n",
    "\n",
    "            submissions_2 = [] # need this because of Praw iterator related bug\n",
    "                        \n",
    "            for submission in user_submissions: # quick pass to see if this user's posts are relevant\n",
    "                if count_related >= 2 and count_unrelated >= 2: break # is relevant, stop here\n",
    "\n",
    "                if not submission.title or not submission.selftext or submission.selftext == \"[removed]\": continue \n",
    "\n",
    "                if submission.subreddit.display_name in SUBS_ANX: count_related += 1\n",
    "                elif submission.subreddit.display_name not in SUBS_MEN: count_unrelated += 1\n",
    "                    \n",
    "                submissions_2.append(submission)\n",
    "                    \n",
    "            if(count_related >= 2 and count_unrelated >= 2): \n",
    "                anx_count = mental_count = neutral_count = 0\n",
    "                try:\n",
    "                    for submission in submissions_2:\n",
    "                        tag = \"\"\n",
    "                        \n",
    "                        if submission.subreddit.display_name in SUBS_ANX: \n",
    "                            anx_count += 1\n",
    "                            tag = \"anx\"\n",
    "                        elif submission.subreddit.display_name in SUBS_MEN:\n",
    "                            mental_count += 1\n",
    "                            tag = \"men\"\n",
    "                        else: \n",
    "                            neutral_count += 1 \n",
    "                            tag = \"neu\"\n",
    "                            \n",
    "                        if (anx_count > 2 and tag ==\"anx\") or \\\n",
    "                        (neutral_count > 2 and tag == \"neu\") or \\\n",
    "                        (mental_count > 2 and tag == \"men\"): continue            \n",
    " \n",
    "                        post = get_dict_from_submission(submission, user)\n",
    "    \n",
    "                        categories = process_for_category(post, submission.subreddit.display_name, categories)\n",
    "                        user_result.append(post)\n",
    "\n",
    "                except Exception: continue\n",
    "                results_user_names.append(user) # add user to the list of final users used\n",
    "                results[user] = (user_result) # add result to final result\n",
    "                result_user_count += 1 # increment the user count\n",
    "                result_post_count += len(user_result)\n",
    "\n",
    "\n",
    "        except Exception:\n",
    "            continue"
   ]
  },
  {
   "cell_type": "code",
   "execution_count": null,
   "metadata": {},
   "outputs": [
    {
     "name": "stdout",
     "output_type": "stream",
     "text": [
      "Batch: 22\n",
      "496/500 users\n",
      "\n",
      "Batch: 23\n",
      "96/500 users\r"
     ]
    }
   ],
   "source": [
    "batch_count = 22\n",
    "for i in range(11500,len(unique)):\n",
    "    print(\"Batch:\", batch_count)\n",
    "    get_data_for_users(i, i+500)\n",
    "    print(\"\\n\")\n",
    "    i += 500\n",
    "    batch_count += 1"
   ]
  },
  {
   "cell_type": "code",
   "execution_count": 164,
   "metadata": {},
   "outputs": [
    {
     "name": "stdout",
     "output_type": "stream",
     "text": [
      "Result user count:  1795\n",
      "\n",
      "Result post count:  8254\n",
      "\n",
      "Counter of mental posts:  [('depression', 287), ('AskDocs', 139), ('offmychest', 92), ('OCD', 92), ('SuicideWatch', 58), ('antidepressants', 50), ('raisedbynarcissists', 49), ('bipolar', 45), ('TrueOffMyChest', 37), ('CPTSD', 30)]\n",
      "Counter of anx posts:  [('Anxiety', 1427), ('HealthAnxiety', 584), ('socialanxiety', 534), ('AnxietyDepression', 342), ('zoloft', 261), ('PanicAttack', 181), ('Anxietyhelp', 177), ('panicdisorder', 66), ('PanicParty', 18)]\n",
      "Counter of unrelated posts:  [('lexapro', 39), ('NoFap', 34), ('Advice', 33), ('personalfinance', 32), ('relationship_advice', 31), ('lonely', 30), ('relationships', 27), ('socialskills', 26), ('Dentistry', 25), ('migraine', 25)]\n",
      "\n",
      "Result of mental posts 1074\n",
      "Result of anx posts 3590\n",
      "Result of unrelated posts 3590\n"
     ]
    }
   ],
   "source": [
    "print(\"Result user count: \", result_user_count)\n",
    "print(\"\\nResult post count: \", result_post_count)\n",
    "\n",
    "print(\"\\nCounter of mental posts: \", categories.men.counter.most_common(10))\n",
    "print(\"Counter of anx posts: \", categories.anx.counter.most_common(10))\n",
    "print(\"Counter of unrelated posts: \", categories.unr.counter.most_common(10))\n",
    "\n",
    "print(\"\\nResult of mental posts\", len(categories.men.result_list))\n",
    "print(\"Result of anx posts\", len(categories.anx.result_list))\n",
    "print(\"Result of unrelated posts\", len(categories.unr.result_list))"
   ]
  },
  {
   "cell_type": "code",
   "execution_count": null,
   "metadata": {},
   "outputs": [],
   "source": [
    "dump_data('dataset-v1/reddit-data.json', results)\n",
    "\n",
    "dump_data('dataset-v1/reddit-posts-mental.json', categories.men.result_list)\n",
    "dump_data('dataset-v1/reddit-posts-anxiety.json', categories.anx.result_list)\n",
    "dump_data('dataset-v1/reddit-posts-unrelated.json', categories.unr.result_list)\n",
    "\n",
    "dump_data('dataset-v1/reddit-counter-unrelated.txt', categories.unr.counter.most_common())\n",
    "dump_data('dataset-v1/reddit-counter-mental.txt', categories.men.counter.most_common())\n",
    "dump_data('dataset-v1/reddit-counter-anxiety.txt', categories.anx.counter.most_common())\n",
    "\n",
    "dump_data('dataset-v1/stats.txt', \"Result of mental posts: {} \\\n",
    "        Result of anx posts: {} \\\n",
    "        Result of unrelated posts: {}\"\\\n",
    "         .format(len(categories.men.result_list),\\\n",
    "                 len(categories.anx.result_list),\\\n",
    "                 len(categories.unr.result_list))"
   ]
  },
  {
   "cell_type": "markdown",
   "metadata": {},
   "source": []
  }
 ],
 "metadata": {
  "kernelspec": {
   "display_name": "Python 3",
   "language": "python",
   "name": "python3"
  },
  "language_info": {
   "codemirror_mode": {
    "name": "ipython",
    "version": 3
   },
   "file_extension": ".py",
   "mimetype": "text/x-python",
   "name": "python",
   "nbconvert_exporter": "python",
   "pygments_lexer": "ipython3",
   "version": "3.6.10"
  }
 },
 "nbformat": 4,
 "nbformat_minor": 4
}
