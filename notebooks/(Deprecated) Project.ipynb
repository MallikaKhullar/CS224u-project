{
 "cells": [
  {
   "cell_type": "markdown",
   "metadata": {},
   "source": [
    "Q. What is our input for training?\n",
    "- What is our training X\n",
    "- What is our training Y\n",
    "- How are we getting Y ( labels )\n",
    "\n",
    "\n",
    "Q. What do we want to classify or predict?\n",
    "- What is our prediction input\n",
    "- What is our prediction output\n",
    "\n",
    "\n",
    "Q. How will we tokenize?\n",
    "- Are we tokenizing the title and body both?\n",
    "- Are we removing stop words, punctuation, non-ASCII etc.?\n",
    "- Are we implementing Porter Stemming?\n",
    "\n",
    "\n",
    "Q. What steps do we want to do to build our feature set?\n",
    "- How will we calculate frequency of posting \n",
    "- PERMA / SWL\n",
    "- LIWC\n",
    "\n",
    "Q. What is our evaluation metrics?\n",
    "\n",
    "\n",
    "Q. What is our TODO for the experiment protocol?\n",
    "- Get a dataset (done)\n",
    "- Tokenize the title and body\n",
    "- Calculate the frequency of posting"
   ]
  },
  {
   "cell_type": "code",
   "execution_count": null,
   "metadata": {},
   "outputs": [],
   "source": []
  }
 ],
 "metadata": {
  "kernelspec": {
   "display_name": "Python 3",
   "language": "python",
   "name": "python3"
  },
  "language_info": {
   "codemirror_mode": {
    "name": "ipython",
    "version": 3
   },
   "file_extension": ".py",
   "mimetype": "text/x-python",
   "name": "python",
   "nbconvert_exporter": "python",
   "pygments_lexer": "ipython3",
   "version": "3.6.10"
  }
 },
 "nbformat": 4,
 "nbformat_minor": 4
}
